{
 "cells": [
  {
   "cell_type": "code",
   "execution_count": 17,
   "id": "c523aaf8-1643-46bb-94cd-bc2ed3c483e8",
   "metadata": {
    "tags": []
   },
   "outputs": [],
   "source": [
    "import pickle\n",
    "with open('dev/SURF/FI/nvm_data/fe_m_fe_ss_hzo.p', 'rb') as f:\n",
    "    data = pickle.load(f)"
   ]
  },
  {
   "cell_type": "code",
   "execution_count": 18,
   "id": "7d77246e-bab5-4f91-a999-c40d576d30e4",
   "metadata": {
    "tags": []
   },
   "outputs": [
    {
     "data": {
      "text/plain": [
       "[[(0.0, 0.12), (1.0, 0.04)],\n",
       " [(0.0, 0.12),\n",
       "  (0.3929961089494164, 0.09),\n",
       "  (0.7003891050583657, 0.09),\n",
       "  (1.0, 0.04)]]"
      ]
     },
     "execution_count": 18,
     "metadata": {},
     "output_type": "execute_result"
    }
   ],
   "source": [
    "data"
   ]
  },
  {
   "cell_type": "code",
   "execution_count": 12,
   "id": "2484f196-2063-4cf9-96ad-aec57bbc8c97",
   "metadata": {
    "tags": []
   },
   "outputs": [
    {
     "data": {
      "text/plain": [
       "[[(0.0, 0.0164567), (1.0, 0.0239958)],\n",
       " [(0.0, 0.164567),\n",
       "  (0.38464387, 0.1351085),\n",
       "  (0.72165694, 0.2741654),\n",
       "  (1.0, 0.339958)],\n",
       " [(0.0, 0.00864567),\n",
       "  (0.07826194, 0.01345795),\n",
       "  (0.20381963, 0.030416),\n",
       "  (0.38464387, 0.03351085),\n",
       "  (0.54212002, 0.02482939),\n",
       "  (0.72165694, 0.02741654),\n",
       "  (0.88611635, 0.03719118),\n",
       "  (1.0, 0.00339958)]]"
      ]
     },
     "execution_count": 12,
     "metadata": {},
     "output_type": "execute_result"
    }
   ],
   "source": [
    "data"
   ]
  },
  {
   "cell_type": "code",
   "execution_count": null,
   "id": "512ca035-c70b-4505-9a6d-f088cfdc252b",
   "metadata": {},
   "outputs": [],
   "source": []
  }
 ],
 "metadata": {
  "kernelspec": {
   "display_name": "Python 3",
   "language": "python",
   "name": "python3"
  },
  "language_info": {
   "codemirror_mode": {
    "name": "ipython",
    "version": 3
   },
   "file_extension": ".py",
   "mimetype": "text/x-python",
   "name": "python",
   "nbconvert_exporter": "python",
   "pygments_lexer": "ipython3",
   "version": "3.9.16"
  }
 },
 "nbformat": 4,
 "nbformat_minor": 5
}
